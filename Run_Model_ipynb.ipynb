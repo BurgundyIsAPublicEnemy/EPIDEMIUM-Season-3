{
  "cells": [
    {
      "cell_type": "markdown",
      "metadata": {
        "id": "view-in-github",
        "colab_type": "text"
      },
      "source": [
        "<a href=\"https://colab.research.google.com/github/BurgundyIsAPublicEnemy/EPIDEMIUM-Season-3/blob/main/Run_Model_ipynb.ipynb\" target=\"_parent\"><img src=\"https://colab.research.google.com/assets/colab-badge.svg\" alt=\"Open In Colab\"/></a>"
      ]
    },
    {
      "cell_type": "markdown",
      "source": [
        "# Train and create a submission model\n",
        "Set up your variables below (make sure they point to the right place) and hit run. Let the model do it's thing\n",
        "\n",
        "Remember to use a GPU Runtime!"
      ],
      "metadata": {
        "id": "2tDJuT5N9rz5"
      }
    },
    {
      "cell_type": "code",
      "source": [
        "!pip install python-dotenv\n",
        "!pip install colab-env --upgrade\n",
        "!pip install pytorch_lightning"
      ],
      "metadata": {
        "colab": {
          "base_uri": "https://localhost:8080/"
        },
        "id": "21TvlQb9dUKF",
        "outputId": "6c9db7f6-038e-4f00-d18c-915e2ef6b682"
      },
      "execution_count": 13,
      "outputs": [
        {
          "output_type": "stream",
          "name": "stdout",
          "text": [
            "Requirement already satisfied: python-dotenv in /usr/local/lib/python3.7/dist-packages (0.19.2)\n",
            "Requirement already satisfied: colab-env in /usr/local/lib/python3.7/dist-packages (0.2.0)\n",
            "Requirement already satisfied: python-dotenv<1.0,>=0.10.0 in /usr/local/lib/python3.7/dist-packages (from colab-env) (0.19.2)\n",
            "Requirement already satisfied: pytorch_lightning in /usr/local/lib/python3.7/dist-packages (1.5.8)\n",
            "Requirement already satisfied: tensorboard>=2.2.0 in /usr/local/lib/python3.7/dist-packages (from pytorch_lightning) (2.7.0)\n",
            "Requirement already satisfied: PyYAML>=5.1 in /usr/local/lib/python3.7/dist-packages (from pytorch_lightning) (6.0)\n",
            "Requirement already satisfied: typing-extensions in /usr/local/lib/python3.7/dist-packages (from pytorch_lightning) (3.10.0.2)\n",
            "Requirement already satisfied: fsspec[http]!=2021.06.0,>=2021.05.0 in /usr/local/lib/python3.7/dist-packages (from pytorch_lightning) (2022.1.0)\n",
            "Requirement already satisfied: packaging>=17.0 in /usr/local/lib/python3.7/dist-packages (from pytorch_lightning) (21.3)\n",
            "Requirement already satisfied: future>=0.17.1 in /usr/local/lib/python3.7/dist-packages (from pytorch_lightning) (0.18.2)\n",
            "Requirement already satisfied: tqdm>=4.41.0 in /usr/local/lib/python3.7/dist-packages (from pytorch_lightning) (4.62.3)\n",
            "Requirement already satisfied: pyDeprecate==0.3.1 in /usr/local/lib/python3.7/dist-packages (from pytorch_lightning) (0.3.1)\n",
            "Requirement already satisfied: numpy>=1.17.2 in /usr/local/lib/python3.7/dist-packages (from pytorch_lightning) (1.19.5)\n",
            "Requirement already satisfied: torchmetrics>=0.4.1 in /usr/local/lib/python3.7/dist-packages (from pytorch_lightning) (0.6.2)\n",
            "Requirement already satisfied: torch>=1.7.* in /usr/local/lib/python3.7/dist-packages (from pytorch_lightning) (1.10.0+cu111)\n",
            "Requirement already satisfied: aiohttp in /usr/local/lib/python3.7/dist-packages (from fsspec[http]!=2021.06.0,>=2021.05.0->pytorch_lightning) (3.8.1)\n",
            "Requirement already satisfied: requests in /usr/local/lib/python3.7/dist-packages (from fsspec[http]!=2021.06.0,>=2021.05.0->pytorch_lightning) (2.23.0)\n",
            "Requirement already satisfied: pyparsing!=3.0.5,>=2.0.2 in /usr/local/lib/python3.7/dist-packages (from packaging>=17.0->pytorch_lightning) (3.0.6)\n",
            "Requirement already satisfied: werkzeug>=0.11.15 in /usr/local/lib/python3.7/dist-packages (from tensorboard>=2.2.0->pytorch_lightning) (1.0.1)\n",
            "Requirement already satisfied: setuptools>=41.0.0 in /usr/local/lib/python3.7/dist-packages (from tensorboard>=2.2.0->pytorch_lightning) (57.4.0)\n",
            "Requirement already satisfied: tensorboard-plugin-wit>=1.6.0 in /usr/local/lib/python3.7/dist-packages (from tensorboard>=2.2.0->pytorch_lightning) (1.8.1)\n",
            "Requirement already satisfied: grpcio>=1.24.3 in /usr/local/lib/python3.7/dist-packages (from tensorboard>=2.2.0->pytorch_lightning) (1.43.0)\n",
            "Requirement already satisfied: tensorboard-data-server<0.7.0,>=0.6.0 in /usr/local/lib/python3.7/dist-packages (from tensorboard>=2.2.0->pytorch_lightning) (0.6.1)\n",
            "Requirement already satisfied: protobuf>=3.6.0 in /usr/local/lib/python3.7/dist-packages (from tensorboard>=2.2.0->pytorch_lightning) (3.17.3)\n",
            "Requirement already satisfied: markdown>=2.6.8 in /usr/local/lib/python3.7/dist-packages (from tensorboard>=2.2.0->pytorch_lightning) (3.3.6)\n",
            "Requirement already satisfied: wheel>=0.26 in /usr/local/lib/python3.7/dist-packages (from tensorboard>=2.2.0->pytorch_lightning) (0.37.1)\n",
            "Requirement already satisfied: absl-py>=0.4 in /usr/local/lib/python3.7/dist-packages (from tensorboard>=2.2.0->pytorch_lightning) (0.12.0)\n",
            "Requirement already satisfied: google-auth-oauthlib<0.5,>=0.4.1 in /usr/local/lib/python3.7/dist-packages (from tensorboard>=2.2.0->pytorch_lightning) (0.4.6)\n",
            "Requirement already satisfied: google-auth<3,>=1.6.3 in /usr/local/lib/python3.7/dist-packages (from tensorboard>=2.2.0->pytorch_lightning) (1.35.0)\n",
            "Requirement already satisfied: six in /usr/local/lib/python3.7/dist-packages (from absl-py>=0.4->tensorboard>=2.2.0->pytorch_lightning) (1.15.0)\n",
            "Requirement already satisfied: rsa<5,>=3.1.4 in /usr/local/lib/python3.7/dist-packages (from google-auth<3,>=1.6.3->tensorboard>=2.2.0->pytorch_lightning) (4.8)\n",
            "Requirement already satisfied: cachetools<5.0,>=2.0.0 in /usr/local/lib/python3.7/dist-packages (from google-auth<3,>=1.6.3->tensorboard>=2.2.0->pytorch_lightning) (4.2.4)\n",
            "Requirement already satisfied: pyasn1-modules>=0.2.1 in /usr/local/lib/python3.7/dist-packages (from google-auth<3,>=1.6.3->tensorboard>=2.2.0->pytorch_lightning) (0.2.8)\n",
            "Requirement already satisfied: requests-oauthlib>=0.7.0 in /usr/local/lib/python3.7/dist-packages (from google-auth-oauthlib<0.5,>=0.4.1->tensorboard>=2.2.0->pytorch_lightning) (1.3.0)\n",
            "Requirement already satisfied: importlib-metadata>=4.4 in /usr/local/lib/python3.7/dist-packages (from markdown>=2.6.8->tensorboard>=2.2.0->pytorch_lightning) (4.10.0)\n",
            "Requirement already satisfied: zipp>=0.5 in /usr/local/lib/python3.7/dist-packages (from importlib-metadata>=4.4->markdown>=2.6.8->tensorboard>=2.2.0->pytorch_lightning) (3.7.0)\n",
            "Requirement already satisfied: pyasn1<0.5.0,>=0.4.6 in /usr/local/lib/python3.7/dist-packages (from pyasn1-modules>=0.2.1->google-auth<3,>=1.6.3->tensorboard>=2.2.0->pytorch_lightning) (0.4.8)\n",
            "Requirement already satisfied: urllib3!=1.25.0,!=1.25.1,<1.26,>=1.21.1 in /usr/local/lib/python3.7/dist-packages (from requests->fsspec[http]!=2021.06.0,>=2021.05.0->pytorch_lightning) (1.24.3)\n",
            "Requirement already satisfied: chardet<4,>=3.0.2 in /usr/local/lib/python3.7/dist-packages (from requests->fsspec[http]!=2021.06.0,>=2021.05.0->pytorch_lightning) (3.0.4)\n",
            "Requirement already satisfied: certifi>=2017.4.17 in /usr/local/lib/python3.7/dist-packages (from requests->fsspec[http]!=2021.06.0,>=2021.05.0->pytorch_lightning) (2021.10.8)\n",
            "Requirement already satisfied: idna<3,>=2.5 in /usr/local/lib/python3.7/dist-packages (from requests->fsspec[http]!=2021.06.0,>=2021.05.0->pytorch_lightning) (2.10)\n",
            "Requirement already satisfied: oauthlib>=3.0.0 in /usr/local/lib/python3.7/dist-packages (from requests-oauthlib>=0.7.0->google-auth-oauthlib<0.5,>=0.4.1->tensorboard>=2.2.0->pytorch_lightning) (3.1.1)\n",
            "Requirement already satisfied: aiosignal>=1.1.2 in /usr/local/lib/python3.7/dist-packages (from aiohttp->fsspec[http]!=2021.06.0,>=2021.05.0->pytorch_lightning) (1.2.0)\n",
            "Requirement already satisfied: yarl<2.0,>=1.0 in /usr/local/lib/python3.7/dist-packages (from aiohttp->fsspec[http]!=2021.06.0,>=2021.05.0->pytorch_lightning) (1.7.2)\n",
            "Requirement already satisfied: asynctest==0.13.0 in /usr/local/lib/python3.7/dist-packages (from aiohttp->fsspec[http]!=2021.06.0,>=2021.05.0->pytorch_lightning) (0.13.0)\n",
            "Requirement already satisfied: charset-normalizer<3.0,>=2.0 in /usr/local/lib/python3.7/dist-packages (from aiohttp->fsspec[http]!=2021.06.0,>=2021.05.0->pytorch_lightning) (2.0.10)\n",
            "Requirement already satisfied: attrs>=17.3.0 in /usr/local/lib/python3.7/dist-packages (from aiohttp->fsspec[http]!=2021.06.0,>=2021.05.0->pytorch_lightning) (21.4.0)\n",
            "Requirement already satisfied: frozenlist>=1.1.1 in /usr/local/lib/python3.7/dist-packages (from aiohttp->fsspec[http]!=2021.06.0,>=2021.05.0->pytorch_lightning) (1.2.0)\n",
            "Requirement already satisfied: multidict<7.0,>=4.5 in /usr/local/lib/python3.7/dist-packages (from aiohttp->fsspec[http]!=2021.06.0,>=2021.05.0->pytorch_lightning) (5.2.0)\n",
            "Requirement already satisfied: async-timeout<5.0,>=4.0.0a3 in /usr/local/lib/python3.7/dist-packages (from aiohttp->fsspec[http]!=2021.06.0,>=2021.05.0->pytorch_lightning) (4.0.2)\n"
          ]
        }
      ]
    },
    {
      "cell_type": "code",
      "execution_count": 14,
      "metadata": {
        "colab": {
          "base_uri": "https://localhost:8080/"
        },
        "id": "rzr_mPBjol6H",
        "outputId": "679f7f32-fa51-4917-e0be-441fc11f36ae"
      },
      "outputs": [
        {
          "output_type": "stream",
          "name": "stdout",
          "text": [
            "Drive already mounted at /content/drive; to attempt to forcibly remount, call drive.mount(\"/content/drive\", force_remount=True).\n"
          ]
        }
      ],
      "source": [
        "from google.colab import drive\n",
        "drive.mount('/content/drive')"
      ]
    },
    {
      "cell_type": "code",
      "source": [
        "import colab_env\n",
        "\n",
        "colab_env.__version__"
      ],
      "metadata": {
        "id": "tferRKz0a4I8",
        "outputId": "c560034b-543e-431b-bdbb-c00a1f55bf43",
        "colab": {
          "base_uri": "https://localhost:8080/",
          "height": 35
        }
      },
      "execution_count": 15,
      "outputs": [
        {
          "output_type": "execute_result",
          "data": {
            "application/vnd.google.colaboratory.intrinsic+json": {
              "type": "string"
            },
            "text/plain": [
              "'0.2.0'"
            ]
          },
          "metadata": {},
          "execution_count": 15
        }
      ]
    },
    {
      "cell_type": "code",
      "source": [
        "!more /content/drive/MyDrive/vars.env"
      ],
      "metadata": {
        "id": "hUo90-9Va5uy",
        "outputId": "1b0119e6-f1b2-4fae-d1b7-8e5e00380e5f",
        "colab": {
          "base_uri": "https://localhost:8080/"
        }
      },
      "execution_count": 16,
      "outputs": [
        {
          "output_type": "stream",
          "name": "stdout",
          "text": [
            "IMAGEFILES = 'WHERE YOUR DATAIKU IMAGES ARE LOCATED'\n",
            "TABULARTRAINING = 'WHERE THE TRAINNG CSV IS AT'\n",
            "TABULARTEST = 'WHERE THE TEST CSV IS AT '\n",
            "FULLSTACKTRAIN = 'WHERE YOUR TIFS ARE'\n",
            "TRAIN_AUGMENTED_PATH = 'WHERE YOU WANT TO PUT YOUR NEW TRAINING CSV'\n",
            "TEST_AUGMENTED_PATH = 'WHERE YOU WANT TO PUT YOUR NEW TEST CSV'\n",
            "METADATA_PATH = ''\n",
            "TENPERCENT_MODEL_PATH = '/content/drive/MyDrive/Kaggle/ModelDump/tenpercent_resn\n",
            "et18.ckpt'\n",
            "IMG_TO_ANALYZE = '/content/drive/MyDrive/Epidemium Season 3/ORLIAn /image_data_v\n",
            "2/Cellule inflamatoire 2/a4ad44_[12800,52067]_composite_image.jpg'\n",
            "FOLDER_TO_OUTPUT = './'\n",
            "OUTPUT_MODEL_PATH = '/content/drive/MyDrive/Kaggle/ModelDump/'\n",
            "WORKSPACE_PATH = '/content/drive/MyDrive/Kaggle/ORLIA'\n",
            "MODEL_PATH = '/content/drive/MyDrive/Kaggle/ModelDump/fold_0.pth'\n",
            "patience = 1\n"
          ]
        }
      ]
    },
    {
      "cell_type": "code",
      "source": [
        "import os\n",
        "\n",
        "TEN_PERCENT_MODEL_PATH = os.getenv(\"TENPERCENT_MODEL_PATH\")\n",
        "patience = int(os.getenv(\"patience\"))\n",
        "WORKSPACE_PATH = os.getenv(\"WORKSPACE_PATH\")\n",
        "\n",
        "OUTPUT_MODEL_PATH = os.getenv(\"OUTPUT_MODEL_PATH\")"
      ],
      "metadata": {
        "id": "930wMEVXa7bY"
      },
      "execution_count": 17,
      "outputs": []
    },
    {
      "cell_type": "code",
      "source": [
        "print(OUTPUT_MODEL_PATH)"
      ],
      "metadata": {
        "id": "HUkJihMDbECc",
        "outputId": "87999f07-6005-47a1-9038-6edc4766cf50",
        "colab": {
          "base_uri": "https://localhost:8080/"
        }
      },
      "execution_count": 18,
      "outputs": [
        {
          "output_type": "stream",
          "name": "stdout",
          "text": [
            "/content/drive/MyDrive/Kaggle/ModelDump/\n"
          ]
        }
      ]
    },
    {
      "cell_type": "code",
      "execution_count": 19,
      "metadata": {
        "id": "MzNspleLloxS"
      },
      "outputs": [],
      "source": [
        "import pandas as pd\n",
        "import numpy as np\n",
        "import matplotlib.pyplot as plt\n",
        "import cv2\n",
        "import os \n",
        "from tqdm import tqdm\n",
        "\n",
        "import torch\n",
        "from torch import nn \n",
        "from torch.utils.data import Dataset, DataLoader\n",
        "import torchvision\n",
        "import torchvision.models as models\n",
        "import torchvision.transforms as transforms\n",
        "from torchsummary import summary\n",
        "\n",
        "from torch.nn import Linear\n",
        "from torch.nn import ReLU\n",
        "from torch.nn import Sigmoid\n",
        "from torch.nn import Module\n",
        "from torch.optim import Adam\n",
        "from torch.nn import L1Loss\n",
        "from torch.nn.init import kaiming_uniform_\n",
        "from torch.nn.init import xavier_uniform_\n",
        "\n",
        "from torchvision.io import read_image\n",
        "from google.colab.patches import cv2_imshow\n",
        "\n",
        "\n",
        "from pathlib import Path\n",
        "Path.ls = lambda x: list(x.iterdir())"
      ]
    },
    {
      "cell_type": "code",
      "execution_count": 20,
      "metadata": {
        "id": "hmAQrHrWGOOw"
      },
      "outputs": [],
      "source": [
        "# Config Class\n",
        "class Config:\n",
        "    def __init__(self):\n",
        "        self.FOLDS = 5\n",
        "        self.EPOCHS = 30\n",
        "        self.DEVICE = 'cuda'\n",
        "        self.TRAIN_BS = 16\n",
        "        self.VALID_BS = 8\n",
        "        self.loss_fn = nn.L1Loss()\n",
        "\n",
        "config = Config()"
      ]
    },
    {
      "cell_type": "code",
      "execution_count": 21,
      "metadata": {
        "colab": {
          "base_uri": "https://localhost:8080/"
        },
        "id": "fr4upWXzspzn",
        "outputId": "1be22f66-f9d1-4e44-8a2c-80b6ecac5d94"
      },
      "outputs": [
        {
          "output_type": "execute_result",
          "data": {
            "text/plain": [
              "[PosixPath('/content/drive/MyDrive/Kaggle/ORLIA/Train'),\n",
              " PosixPath('/content/drive/MyDrive/Kaggle/ORLIA/Test'),\n",
              " PosixPath('/content/drive/MyDrive/Kaggle/ORLIA/train_img_data.csv'),\n",
              " PosixPath('/content/drive/MyDrive/Kaggle/ORLIA/train_minus_hold_img_data.csv'),\n",
              " PosixPath('/content/drive/MyDrive/Kaggle/ORLIA/holdout_img_data.csv'),\n",
              " PosixPath('/content/drive/MyDrive/Kaggle/ORLIA/test_img_data.csv'),\n",
              " PosixPath('/content/drive/MyDrive/Kaggle/ORLIA/.ipynb_checkpoints')]"
            ]
          },
          "metadata": {},
          "execution_count": 21
        }
      ],
      "source": [
        "path = Path(WORKSPACE_PATH)\n",
        "path.ls()"
      ]
    },
    {
      "cell_type": "markdown",
      "metadata": {
        "id": "7_LkgltabU4F"
      },
      "source": [
        "## Data Prep & Loading "
      ]
    },
    {
      "cell_type": "code",
      "execution_count": 22,
      "metadata": {
        "id": "4bHRgSV5Ru6Q"
      },
      "outputs": [],
      "source": [
        "# get train \n",
        "train_df = pd.read_csv(str(path.ls()[2]))\n",
        "test_df = pd.read_csv(str(path.ls()[5]))"
      ]
    },
    {
      "cell_type": "code",
      "execution_count": 23,
      "metadata": {
        "colab": {
          "base_uri": "https://localhost:8080/"
        },
        "id": "rfHgno21LdDd",
        "outputId": "6240955e-eb99-4a25-e70b-5d8879278ce3"
      },
      "outputs": [
        {
          "output_type": "execute_result",
          "data": {
            "text/plain": [
              "42"
            ]
          },
          "metadata": {},
          "execution_count": 23
        }
      ],
      "source": [
        "# unique patinet ids \n",
        "unique_patient_ids = train_df.id.unique()\n",
        "len(unique_patient_ids)"
      ]
    },
    {
      "cell_type": "code",
      "execution_count": 24,
      "metadata": {
        "colab": {
          "base_uri": "https://localhost:8080/"
        },
        "id": "TR3ehpHueV7k",
        "outputId": "d16f7c6b-c8f2-4d48-917d-0fb9a8886cb1"
      },
      "outputs": [
        {
          "output_type": "execute_result",
          "data": {
            "text/plain": [
              "array(['afdc1c', 'b3c9bb', 'b41668', 'a4fa68', 'b1abe7', 'adc0ca',\n",
              "       'b32f11', 'af8dca', 'aba442', 'b293e2', 'b02926', 'b110d5',\n",
              "       'abf1b4', 'b4b14e', 'ab55eb', 'ad7219', 'b4fddb', 'b5e396',\n",
              "       'a801cb', 'b1fa79', 'a8ebaf', 'b59738', 'aa21da', 'b6cb24',\n",
              "       'ae5b78', 'b075a7', 'af4155', 'acd8f0', 'a54803', 'a4ad44',\n",
              "       'a85076', 'aa6e3d', 'a6cafe', 'a89f20', 'b67e5a', 'a93ad8',\n",
              "       'aea82d', 'a67dfe', 'a5969b', 'b2e232', 'b0c41b', 'b24726'],\n",
              "      dtype=object)"
            ]
          },
          "metadata": {},
          "execution_count": 24
        }
      ],
      "source": [
        "unique_patient_ids"
      ]
    },
    {
      "cell_type": "markdown",
      "metadata": {
        "id": "Ov0RvLUblaUo"
      },
      "source": [
        "## Dataset"
      ]
    },
    {
      "cell_type": "code",
      "execution_count": 25,
      "metadata": {
        "colab": {
          "base_uri": "https://localhost:8080/"
        },
        "id": "hLSTcaCIpPF-",
        "outputId": "9aa2a625-7d0b-422d-f898-65a3e5ca7a86"
      },
      "outputs": [
        {
          "output_type": "execute_result",
          "data": {
            "text/plain": [
              "Index(['id', 'usage', 'image_file', 'image_rename', 'current_directory',\n",
              "       'layer', 'img_type', 'OMS', 'sexe (0=F 1=M)', 'DDN', 'Date biopsie',\n",
              "       'Age au diag', 'Deces Code', 'Code recidive', 'localisation',\n",
              "       'RNAscope', 'T', 'N', 'M', 'Tabac', 'Alcool', 'Data', 'OS',\n",
              "       'id_encoding', 'image_rename_encoding'],\n",
              "      dtype='object')"
            ]
          },
          "metadata": {},
          "execution_count": 25
        }
      ],
      "source": [
        "train_df.columns"
      ]
    },
    {
      "cell_type": "code",
      "execution_count": 26,
      "metadata": {
        "id": "bdLLb4YGpB7C"
      },
      "outputs": [],
      "source": [
        "train_cols_to_drop = ['id' , 'usage' ,'image_file' ,'image_rename' ,'current_directory' ,'layer' ,'img_type' ,'N' ,'Data' ,'id_encoding' ,'image_rename_encoding', 'OS', 'DDN', 'Date biopsie']"
      ]
    },
    {
      "cell_type": "code",
      "execution_count": 27,
      "metadata": {
        "id": "M8c3IQb3U3TQ"
      },
      "outputs": [],
      "source": [
        "class Dataset:\n",
        "    def __init__(self, path, df, folder = 'Train', is_train = 1):\n",
        "      \"\"\"Summary or Description of the Function\n",
        "      \n",
        "      Parameters:\n",
        "      path (Path): path of drive folder that contains csvs and train / test image folders \n",
        "      df (Pandas df )  : sub fold dataframe for fold patients \n",
        "      folder (str) : train or test folder \n",
        "      \n",
        "      Returns:\n",
        "      img , tab and target \n",
        "      \n",
        "      \"\"\"\n",
        "\n",
        "      self.df = df\n",
        "      self.folder = folder\n",
        "      self.path = path \n",
        "      self.is_train = is_train\n",
        "      \n",
        "      self.train_transform = transforms.Compose([\n",
        "                transforms.ToPILImage(),\n",
        "                transforms.Resize((224, 224)),\n",
        "                transforms.RandomHorizontalFlip(p=0.5),\n",
        "                transforms.RandomRotation(degrees=45),\n",
        "                transforms.ToTensor()\n",
        "                ])\n",
        "        \n",
        "      self.test_transform = transforms.Compose([\n",
        "                transforms.ToPILImage(),\n",
        "                transforms.Resize((224, 224)),\n",
        "                transforms.ToTensor()])\n",
        "      \n",
        "    def __len__(self):\n",
        "      return len(self.df)\n",
        "    \n",
        "    def __getitem__(self,idx):\n",
        "\n",
        "      row = self.df.loc[idx,:]\n",
        "      pid = row['id']\n",
        "      sub_df = self.df[self.df['id'] == pid]\n",
        "        \n",
        "      try: \n",
        "     \n",
        "        img_id = np.random.choice(len(sub_df)) # randomly choose a patient image inside the fold \n",
        "        image = cv2.imread(str(self.path)  + '/' + self.folder + '/' + sub_df.iloc[img_id,:]['image_rename'])\n",
        "        image = cv2.cvtColor(image,cv2.COLOR_BGR2RGB)\n",
        "        img = self.train_transform(image) if self.is_train else self.test_transform(image)\n",
        "         \n",
        "        tab = torch.from_numpy(sub_df.iloc[img_id,:].drop(train_cols_to_drop).values.astype(np.float)).float() # dtype = torch.float32\n",
        "        target = torch.tensor(row['OS'])\n",
        "        return (img,tab), target , torch.tensor(sub_df.iloc[img_id]['id_encoding']) , torch.tensor(sub_df.iloc[img_id]['image_rename_encoding'])\n",
        "        \n",
        "      except Exception as e:\n",
        "        print(e)\n",
        "        print(pid, img_id)"
      ]
    },
    {
      "cell_type": "markdown",
      "metadata": {
        "id": "sRWfmtmaTgvl"
      },
      "source": [
        "## Collate Function "
      ]
    },
    {
      "cell_type": "code",
      "execution_count": 28,
      "metadata": {
        "id": "HziZdEn_TirM"
      },
      "outputs": [],
      "source": [
        "def collate_fn(b):\n",
        "    xs, ys, pids,img_rename = zip(*b)\n",
        "    imgs, tabs = zip(*xs) # doule tuple \n",
        "    return (torch.stack(imgs).float(),torch.stack(tabs).float()),torch.stack(ys).float() , torch.stack(pids) , torch.stack(img_rename)"
      ]
    },
    {
      "cell_type": "markdown",
      "metadata": {
        "id": "ZSRPze0cVpAv"
      },
      "source": [
        "## Generating Splits "
      ]
    },
    {
      "cell_type": "code",
      "execution_count": 29,
      "metadata": {
        "id": "k148qJu2VrwO"
      },
      "outputs": [],
      "source": [
        "from sklearn.model_selection import KFold\n",
        "\n",
        "def get_split_idxs(n_folds=5):\n",
        "    kv = KFold(n_splits=n_folds)\n",
        "    splits = []\n",
        "    for i,(train_idx, valid_idx) in enumerate(kv.split(unique_patient_ids)):\n",
        "        splits.append((train_idx, valid_idx))\n",
        "        \n",
        "    return splits"
      ]
    },
    {
      "cell_type": "code",
      "execution_count": 30,
      "metadata": {
        "id": "pBpu-Ow8Vtvm"
      },
      "outputs": [],
      "source": [
        "splits = get_split_idxs(n_folds=config.FOLDS)"
      ]
    },
    {
      "cell_type": "code",
      "execution_count": 31,
      "metadata": {
        "colab": {
          "base_uri": "https://localhost:8080/"
        },
        "id": "vZ4pjbDFV1lE",
        "outputId": "afe56201-807e-45a8-c866-de9c5a893f25"
      },
      "outputs": [
        {
          "output_type": "execute_result",
          "data": {
            "text/plain": [
              "[(array([ 9, 10, 11, 12, 13, 14, 15, 16, 17, 18, 19, 20, 21, 22, 23, 24, 25,\n",
              "         26, 27, 28, 29, 30, 31, 32, 33, 34, 35, 36, 37, 38, 39, 40, 41]),\n",
              "  array([0, 1, 2, 3, 4, 5, 6, 7, 8])),\n",
              " (array([ 0,  1,  2,  3,  4,  5,  6,  7,  8, 18, 19, 20, 21, 22, 23, 24, 25,\n",
              "         26, 27, 28, 29, 30, 31, 32, 33, 34, 35, 36, 37, 38, 39, 40, 41]),\n",
              "  array([ 9, 10, 11, 12, 13, 14, 15, 16, 17])),\n",
              " (array([ 0,  1,  2,  3,  4,  5,  6,  7,  8,  9, 10, 11, 12, 13, 14, 15, 16,\n",
              "         17, 26, 27, 28, 29, 30, 31, 32, 33, 34, 35, 36, 37, 38, 39, 40, 41]),\n",
              "  array([18, 19, 20, 21, 22, 23, 24, 25])),\n",
              " (array([ 0,  1,  2,  3,  4,  5,  6,  7,  8,  9, 10, 11, 12, 13, 14, 15, 16,\n",
              "         17, 18, 19, 20, 21, 22, 23, 24, 25, 34, 35, 36, 37, 38, 39, 40, 41]),\n",
              "  array([26, 27, 28, 29, 30, 31, 32, 33])),\n",
              " (array([ 0,  1,  2,  3,  4,  5,  6,  7,  8,  9, 10, 11, 12, 13, 14, 15, 16,\n",
              "         17, 18, 19, 20, 21, 22, 23, 24, 25, 26, 27, 28, 29, 30, 31, 32, 33]),\n",
              "  array([34, 35, 36, 37, 38, 39, 40, 41]))]"
            ]
          },
          "metadata": {},
          "execution_count": 31
        }
      ],
      "source": [
        "splits"
      ]
    },
    {
      "cell_type": "markdown",
      "metadata": {
        "id": "eo-olt8sQ2Tj"
      },
      "source": [
        "# Training propsed model\n",
        "\n",
        "GOAL:\n",
        "```\n",
        "Image Data --> CNNLayer \n",
        "                    \\\n",
        "                     ---> FCLayer ---> Output\n",
        "                    /\n",
        "Metadata --> FCLayer\n",
        "```\n",
        "\n"
      ]
    },
    {
      "cell_type": "markdown",
      "metadata": {
        "id": "80E89X4BT6Lv"
      },
      "source": [
        "## Loading Supervised Pretrained \n",
        "\n",
        "Original paper: https://arxiv.org/pdf/2011.13971.pdf\n",
        "\n",
        "Repo: https://github.com/ozanciga/self-supervised-histopathology/tree/tenpercent"
      ]
    },
    {
      "cell_type": "code",
      "execution_count": 32,
      "metadata": {
        "id": "IY5FUluLeN6i"
      },
      "outputs": [],
      "source": [
        "RETURN_PREACTIVATION = True  # return features from the model, if false return classification logits\n",
        "NUM_CLASSES = 1  # only used if RETURN_PREACTIVATION = False\n",
        "\n",
        "\n",
        "def load_model_weights(model, weights):\n",
        "\n",
        "    model_dict = model.state_dict()\n",
        "    weights = {k: v for k, v in weights.items() if k in model_dict}\n",
        "    if weights == {}:\n",
        "        print('No weight could be loaded..')\n",
        "    model_dict.update(weights)\n",
        "    model.load_state_dict(model_dict)\n",
        "\n",
        "    return model\n",
        "\n",
        "\n",
        "model = torchvision.models.__dict__['resnet18'](pretrained=False)\n",
        "state = torch.load(TEN_PERCENT_MODEL_PATH, map_location='cuda:0')\n",
        "\n",
        "state_dict = state['state_dict']\n",
        "for key in list(state_dict.keys()):\n",
        "    state_dict[key.replace('model.', '').replace('resnet.', '')] = state_dict.pop(key)\n",
        "\n",
        "model = load_model_weights(model, state_dict)\n",
        "\n",
        "if RETURN_PREACTIVATION:\n",
        "    model.fc = torch.nn.Sequential()\n",
        "else:\n",
        "    model.fc = torch.nn.Linear(model.fc.in_features, NUM_CLASSES)\n",
        "\n",
        "model = model.cuda()\n",
        "\n",
        "images = torch.rand((10, 3, 224, 224), device='cuda')\n",
        "\n",
        "out = model(images)\n",
        "\n",
        "\n",
        "for param in model.parameters():\n",
        "    param.requires_grad = False\n",
        "    # Replace the last fully-connected layer\n",
        "    # Parameters of newly constructed modules have requires_grad=True by default\n",
        "    \n",
        "    model.fc = torch.nn.Linear(512, 256,bias = True) \n",
        "    model = model.cuda()\n"
      ]
    },
    {
      "cell_type": "code",
      "execution_count": 33,
      "metadata": {
        "id": "5_lV19Ecep-y"
      },
      "outputs": [],
      "source": [
        "import copy\n",
        "\n",
        "proposed_model = copy.deepcopy(model)\n",
        "\n",
        "count = 1\n",
        "for param in proposed_model.parameters():\n",
        "  count += 1\n",
        "\n",
        "cur = 1\n",
        "for param in proposed_model.parameters():\n",
        "  if (cur > (0.8 * count)): \n",
        "    param.requires_grad = True\n",
        "  cur += 1\n",
        "\n",
        "proposed_model = proposed_model.cuda()"
      ]
    },
    {
      "cell_type": "markdown",
      "metadata": {
        "id": "vxMZaNLnT_nX"
      },
      "source": [
        "## Training Global Model "
      ]
    },
    {
      "cell_type": "code",
      "execution_count": 34,
      "metadata": {
        "id": "lRctuPvUaGKF"
      },
      "outputs": [],
      "source": [
        "def train_loop(model, dl, opt , device, loss_fn):\n",
        "    model.train()\n",
        "    final_loss = []\n",
        "    for X,y,_,_ in dl:\n",
        "        imgs = X[0].to(device)\n",
        "        tabs = X[1].to(device)\n",
        "        y = y.to(device)\n",
        "        outputs = model(imgs, tabs)\n",
        "        loss = loss_fn(outputs.squeeze(), y)\n",
        "        opt.zero_grad()\n",
        "        loss.backward()\n",
        "        opt.step()\n",
        "        final_loss.append(loss.detach().cpu().numpy())\n",
        "        #print('Training Example preds vs targets: ::\\t \\n' , outputs , '\\n' , y)\n",
        "    return np.array(final_loss).mean()\n",
        "    \n",
        "def eval_loop(model, dl, device, loss_fn):\n",
        "    model.eval()\n",
        "    final_outputs = []\n",
        "    final_loss = []\n",
        "    with torch.no_grad():\n",
        "        for X,y,_,_ in dl:\n",
        "            imgs = X[0].to(device)\n",
        "            tabs = X[1].to(device)\n",
        "            y=y.to(device)\n",
        "\n",
        "            outputs = model(imgs, tabs)\n",
        "            loss = loss_fn(outputs.squeeze(), y)\n",
        "\n",
        "            final_outputs.extend(outputs.detach().cpu().numpy().tolist())\n",
        "            final_loss.append(loss.detach().cpu().numpy())\n",
        "\n",
        "    print('validation Example preds vs targets: ::\\t \\n' , outputs , '\\n' , y)\n",
        "    return final_outputs, final_loss"
      ]
    },
    {
      "cell_type": "code",
      "execution_count": 35,
      "metadata": {
        "id": "aXqjrWURRMrc"
      },
      "outputs": [],
      "source": [
        "class Global_Model(nn.Module): # model to combina both tab and imag \n",
        "    def __init__(self , pretrained_medical_resnet):\n",
        "        super().__init__()\n",
        "        self.conv_model = pretrained_medical_resnet # after freezing some layers and setting regression node as 1 not 4 \n",
        "        self.tab_model = nn.Sequential(nn.Linear(11, 500),\n",
        "                                  nn.BatchNorm1d(500),\n",
        "                                  nn.ReLU(),\n",
        "                                  nn.Dropout(p=0.2),\n",
        "                                  nn.Linear(500,250),\n",
        "                                  nn.BatchNorm1d(250),\n",
        "                                  nn.ReLU(),\n",
        "                                  nn.Dropout(p=0.2))\n",
        "                                  \n",
        "        self.output =             nn.Sequential(\n",
        "                                                nn.Linear(250 + 256 ,250),\n",
        "                                                nn.ReLU(),\n",
        "                                                nn.Dropout(p=0.3),\n",
        "                                                nn.Linear(250, 125),\n",
        "                                                nn.ReLU(),\n",
        "                                                nn.Dropout(p=0.3),\n",
        "                                                nn.Linear(125, 60),\n",
        "                                                nn.ReLU(),\n",
        "                                                nn.Dropout(p=0.3),\n",
        "                                                nn.Linear(60, 20),\n",
        "                                                nn.ReLU(),\n",
        "                                                nn.Dropout(p=0.3),\n",
        "                                                nn.Linear(20, 1, bias = True ))\n",
        "    def forward(self, x,tab): # x image , tab is tabular data related \n",
        "        x = self.conv_model(x)\n",
        "        tab_out = self.tab_model(tab)\n",
        "        x = torch.cat([x, tab_out],dim=1)\n",
        "        return self.output(x)"
      ]
    },
    {
      "cell_type": "code",
      "execution_count": 36,
      "metadata": {
        "id": "rcHaW7FYaV2l"
      },
      "outputs": [],
      "source": [
        "models = {}\n",
        "for i in range(config.FOLDS):\n",
        "    models[i] = copy.deepcopy(Global_Model(copy.deepcopy(proposed_model)))  "
      ]
    },
    {
      "cell_type": "code",
      "execution_count": 37,
      "metadata": {
        "id": "h5y9erznawDF",
        "colab": {
          "base_uri": "https://localhost:8080/"
        },
        "outputId": "4318cf2a-f000-4901-cdd4-159dc33cc4c1"
      },
      "outputs": [
        {
          "output_type": "stream",
          "name": "stdout",
          "text": [
            "===================Fold : 0 ================\n",
            "train_idx :  [ 9 10 11 12 13 14 15 16 17 18 19 20 21 22 23 24 25 26 27 28 29 30 31 32\n",
            " 33 34 35 36 37 38 39 40 41] \n",
            " valid_idx [0 1 2 3 4 5 6 7 8]\n",
            "=================EPOCHS 1================\n",
            "validation Example preds vs targets: ::\t \n",
            " tensor([[55.5614],\n",
            "        [35.2146],\n",
            "        [21.4852],\n",
            "        [63.5764],\n",
            "        [55.3545],\n",
            "        [47.3806],\n",
            "        [71.5930],\n",
            "        [43.1738]], device='cuda:0') \n",
            " tensor([13., 70., 13., 43., 65., 13., 70., 65.], device='cuda:0')\n",
            "New best model! Score:  18.131584\n",
            "Train Loss:: \t 30.061167\n",
            "Validation Loss ::\t 18.131584\n",
            "=================EPOCHS 2================\n",
            "validation Example preds vs targets: ::\t \n",
            " tensor([[64.9735],\n",
            "        [60.3937],\n",
            "        [22.6529],\n",
            "        [50.4823],\n",
            "        [64.1397],\n",
            "        [54.2244],\n",
            "        [21.6085],\n",
            "        [27.2634]], device='cuda:0') \n",
            " tensor([72., 70., 47., 65., 72., 70., 13., 13.], device='cuda:0')\n",
            "New best model! Score:  13.117815\n",
            "Train Loss:: \t 16.64285\n",
            "Validation Loss ::\t 13.117815\n",
            "=================EPOCHS 3================\n",
            "validation Example preds vs targets: ::\t \n",
            " tensor([[27.7039],\n",
            "        [60.9752],\n",
            "        [43.4478],\n",
            "        [27.8313],\n",
            "        [63.8295],\n",
            "        [16.6734],\n",
            "        [11.7271],\n",
            "        [64.4771]], device='cuda:0') \n",
            " tensor([47., 70., 65., 47., 70., 13., 13., 70.], device='cuda:0')\n",
            "BAD! Patience counter :  1\n",
            "Early stopping saved\n",
            "===================Fold : 1 ================\n",
            "train_idx :  [ 0  1  2  3  4  5  6  7  8 18 19 20 21 22 23 24 25 26 27 28 29 30 31 32\n",
            " 33 34 35 36 37 38 39 40 41] \n",
            " valid_idx [ 9 10 11 12 13 14 15 16 17]\n",
            "=================EPOCHS 1================\n",
            "validation Example preds vs targets: ::\t \n",
            " tensor([[62.3912],\n",
            "        [43.8185],\n",
            "        [50.9465],\n",
            "        [44.4038],\n",
            "        [42.7263],\n",
            "        [62.2506],\n",
            "        [59.7346],\n",
            "        [43.3256]], device='cuda:0') \n",
            " tensor([64., 31., 66., 10., 21., 10., 66., 64.], device='cuda:0')\n",
            "New best model! Score:  24.802177\n",
            "Train Loss:: \t 35.864826\n",
            "Validation Loss ::\t 24.802177\n",
            "=================EPOCHS 2================\n",
            "validation Example preds vs targets: ::\t \n",
            " tensor([[63.8816],\n",
            "        [39.8673],\n",
            "        [31.6128],\n",
            "        [40.7053],\n",
            "        [49.9604],\n",
            "        [50.9309],\n",
            "        [63.4877],\n",
            "        [43.0761]], device='cuda:0') \n",
            " tensor([84., 10., 59., 10., 66., 64., 84., 59.], device='cuda:0')\n",
            "New best model! Score:  18.689583\n",
            "Train Loss:: \t 20.260256\n",
            "Validation Loss ::\t 18.689583\n",
            "=================EPOCHS 3================\n",
            "validation Example preds vs targets: ::\t \n",
            " tensor([[48.0517],\n",
            "        [22.6422],\n",
            "        [50.8298],\n",
            "        [39.6509],\n",
            "        [40.3055],\n",
            "        [50.6290],\n",
            "        [33.9981],\n",
            "        [42.0066]], device='cuda:0') \n",
            " tensor([66., 18., 66., 21., 31., 66., 59., 31.], device='cuda:0')\n",
            "New best model! Score:  18.599726\n",
            "Train Loss:: \t 18.31783\n",
            "Validation Loss ::\t 18.599726\n",
            "=================EPOCHS 4================\n",
            "validation Example preds vs targets: ::\t \n",
            " tensor([[20.5869],\n",
            "        [42.7780],\n",
            "        [56.3047],\n",
            "        [21.0891],\n",
            "        [23.0485],\n",
            "        [27.4980],\n",
            "        [44.0216],\n",
            "        [45.3079]], device='cuda:0') \n",
            " tensor([18., 12., 64., 18., 18., 18., 31., 21.], device='cuda:0')\n",
            "New best model! Score:  15.047507\n",
            "Train Loss:: \t 16.774225\n",
            "Validation Loss ::\t 15.047507\n",
            "=================EPOCHS 5================\n",
            "validation Example preds vs targets: ::\t \n",
            " tensor([[47.5119],\n",
            "        [48.8079],\n",
            "        [13.1014],\n",
            "        [34.0125],\n",
            "        [56.7968],\n",
            "        [45.4895],\n",
            "        [44.6780],\n",
            "        [12.6704]], device='cuda:0') \n",
            " tensor([66., 66., 18., 31., 64., 59., 59., 18.], device='cuda:0')\n",
            "New best model! Score:  12.363038\n",
            "Train Loss:: \t 16.026304\n",
            "Validation Loss ::\t 12.363038\n",
            "=================EPOCHS 6================\n",
            "validation Example preds vs targets: ::\t \n",
            " tensor([[13.1535],\n",
            "        [53.5997],\n",
            "        [53.8184],\n",
            "        [38.5079],\n",
            "        [33.9125],\n",
            "        [51.3519],\n",
            "        [47.7077],\n",
            "        [12.0545]], device='cuda:0') \n",
            " tensor([10., 84., 64., 12., 21., 64., 59., 18.], device='cuda:0')\n",
            "BAD! Patience counter :  1\n",
            "Early stopping saved\n",
            "===================Fold : 2 ================\n",
            "train_idx :  [ 0  1  2  3  4  5  6  7  8  9 10 11 12 13 14 15 16 17 26 27 28 29 30 31\n",
            " 32 33 34 35 36 37 38 39 40 41] \n",
            " valid_idx [18 19 20 21 22 23 24 25]\n",
            "=================EPOCHS 1================\n",
            "validation Example preds vs targets: ::\t \n",
            " tensor([[36.6490],\n",
            "        [47.8557],\n",
            "        [38.4905],\n",
            "        [50.8581],\n",
            "        [46.8557],\n",
            "        [39.0146],\n",
            "        [39.8050],\n",
            "        [50.5376]], device='cuda:0') \n",
            " tensor([ 9., 67., 39., 39., 67., 39., 67., 56.], device='cuda:0')\n",
            "New best model! Score:  13.204095\n",
            "Train Loss:: \t 33.15587\n",
            "Validation Loss ::\t 13.204095\n",
            "=================EPOCHS 2================\n",
            "validation Example preds vs targets: ::\t \n",
            " tensor([[30.1524],\n",
            "        [60.1636],\n",
            "        [43.5695],\n",
            "        [23.4217],\n",
            "        [61.4428],\n",
            "        [47.4198],\n",
            "        [60.5677],\n",
            "        [58.6722]], device='cuda:0') \n",
            " tensor([ 9., 74., 56., 39., 74., 47., 74., 74.], device='cuda:0')\n",
            "BAD! Patience counter :  1\n",
            "Early stopping saved\n",
            "===================Fold : 3 ================\n",
            "train_idx :  [ 0  1  2  3  4  5  6  7  8  9 10 11 12 13 14 15 16 17 18 19 20 21 22 23\n",
            " 24 25 34 35 36 37 38 39 40 41] \n",
            " valid_idx [26 27 28 29 30 31 32 33]\n",
            "=================EPOCHS 1================\n",
            "validation Example preds vs targets: ::\t \n",
            " tensor([[66.6578],\n",
            "        [38.8702],\n",
            "        [67.7208],\n",
            "        [59.9395],\n",
            "        [37.7030],\n",
            "        [62.7271],\n",
            "        [57.0352],\n",
            "        [75.2180]], device='cuda:0') \n",
            " tensor([59., 67., 66., 66., 67., 59., 30., 78.], device='cuda:0')\n",
            "New best model! Score:  10.618913\n",
            "Train Loss:: \t 29.83833\n",
            "Validation Loss ::\t 10.618913\n",
            "=================EPOCHS 2================\n",
            "validation Example preds vs targets: ::\t \n",
            " tensor([[45.3267],\n",
            "        [36.1516],\n",
            "        [74.0783],\n",
            "        [31.7590],\n",
            "        [75.2925],\n",
            "        [78.7914],\n",
            "        [34.7659],\n",
            "        [44.1540]], device='cuda:0') \n",
            " tensor([67., 30., 78., 30., 78., 78., 30., 67.], device='cuda:0')\n",
            "New best model! Score:  8.014068\n",
            "Train Loss:: \t 16.181025\n",
            "Validation Loss ::\t 8.014068\n",
            "=================EPOCHS 3================\n",
            "validation Example preds vs targets: ::\t \n",
            " tensor([[29.6794],\n",
            "        [69.3277],\n",
            "        [68.9788],\n",
            "        [44.2807],\n",
            "        [54.8647],\n",
            "        [61.7755],\n",
            "        [43.2471],\n",
            "        [69.9118]], device='cuda:0') \n",
            " tensor([30., 78., 78., 67., 66., 55., 67., 78.], device='cuda:0')\n",
            "BAD! Patience counter :  1\n",
            "Early stopping saved\n",
            "===================Fold : 4 ================\n",
            "train_idx :  [ 0  1  2  3  4  5  6  7  8  9 10 11 12 13 14 15 16 17 18 19 20 21 22 23\n",
            " 24 25 26 27 28 29 30 31 32 33] \n",
            " valid_idx [34 35 36 37 38 39 40 41]\n",
            "=================EPOCHS 1================\n",
            "validation Example preds vs targets: ::\t \n",
            " tensor([[27.9584],\n",
            "        [26.5539],\n",
            "        [33.4387],\n",
            "        [28.0828],\n",
            "        [35.6889],\n",
            "        [30.4591],\n",
            "        [31.1951],\n",
            "        [42.5702]], device='cuda:0') \n",
            " tensor([15., 15., 45., 75., 75., 37., 37., 59.], device='cuda:0')\n",
            "New best model! Score:  19.091772\n",
            "Train Loss:: \t 33.53594\n",
            "Validation Loss ::\t 19.091772\n",
            "=================EPOCHS 2================\n",
            "validation Example preds vs targets: ::\t \n",
            " tensor([[29.9901],\n",
            "        [29.9048],\n",
            "        [53.0306],\n",
            "        [27.3587],\n",
            "        [52.2799],\n",
            "        [57.1118],\n",
            "        [60.6540],\n",
            "        [50.3592]], device='cuda:0') \n",
            " tensor([15., 15., 45., 15., 75., 75., 59., 45.], device='cuda:0')\n",
            "New best model! Score:  12.703578\n",
            "Train Loss:: \t 19.127697\n",
            "Validation Loss ::\t 12.703578\n",
            "=================EPOCHS 3================\n",
            "validation Example preds vs targets: ::\t \n",
            " tensor([[43.1651],\n",
            "        [47.1510],\n",
            "        [47.4872],\n",
            "        [42.0263],\n",
            "        [18.1669],\n",
            "        [42.7781],\n",
            "        [63.1574],\n",
            "        [41.8006]], device='cuda:0') \n",
            " tensor([75., 75., 75., 45., 15., 45., 59., 45.], device='cuda:0')\n",
            "New best model! Score:  11.825298\n",
            "Train Loss:: \t 16.629406\n",
            "Validation Loss ::\t 11.825298\n",
            "=================EPOCHS 4================\n",
            "validation Example preds vs targets: ::\t \n",
            " tensor([[41.1403],\n",
            "        [35.0490],\n",
            "        [11.3224],\n",
            "        [50.1429],\n",
            "        [46.4611],\n",
            "        [50.2882],\n",
            "        [38.9071],\n",
            "        [48.3152]], device='cuda:0') \n",
            " tensor([45., 53., 15., 59., 75., 75., 45., 75.], device='cuda:0')\n",
            "BAD! Patience counter :  1\n",
            "Early stopping saved\n"
          ]
        }
      ],
      "source": [
        "history = []\n",
        "trainhistory = []\n",
        "\n",
        "bestModels = []\n",
        "bestScores = []\n",
        "\n",
        "for i, (train_idx, valid_idx) in enumerate(splits):\n",
        "    bestModel = None\n",
        "    bestHistory = 100\n",
        "\n",
        "    print(f\"===================Fold : {i} ================\")\n",
        "    print(\"train_idx : \" , train_idx , \"\\n valid_idx\" , valid_idx)\n",
        "\n",
        "    train = train_df.loc[train_df['id'].isin(unique_patient_ids[train_idx])].reset_index(drop=True)\n",
        "    valid = train_df.loc[train_df['id'].isin(unique_patient_ids[valid_idx])].reset_index(drop=True)\n",
        "    \n",
        "    train_ds = Dataset(path, train,'Train' ,1)\n",
        "    train_dl = torch.utils.data.DataLoader(dataset=train_ds,batch_size=config.TRAIN_BS,shuffle=True,collate_fn=collate_fn)\n",
        "\n",
        "    valid_ds = Dataset(path, valid,'Train' ,0)\n",
        "    valid_dl = torch.utils.data.DataLoader(dataset=valid_ds,batch_size=config.VALID_BS, shuffle=True,collate_fn=collate_fn)\n",
        "\n",
        "    model = models[i]\n",
        "    model.to(config.DEVICE)\n",
        "    lr=1e-3\n",
        "    momentum = 0.9\n",
        "    \n",
        "    num_steps = len(train_dl)\n",
        "    optimizer = Adam(model.parameters(), lr=lr,weight_decay=0.01)\n",
        "\n",
        "    train_losses = []\n",
        "    losses = []\n",
        "    for epoch in range(config.EPOCHS):\n",
        "        print(f\"=================EPOCHS {epoch+1}================\")\n",
        "        train_loss = train_loop(model, train_dl, optimizer, config.DEVICE,config.loss_fn)\n",
        "        metrics = eval_loop(model, valid_dl, config.DEVICE,config.loss_fn)\n",
        "        total_loss = np.array(metrics[1]).mean()\n",
        "\n",
        "        if (total_loss < bestHistory):\n",
        "          print('New best model! Score: ', total_loss)\n",
        "          patienceCounter = 0\n",
        "          bestHistory = total_loss\n",
        "          bestModel = copy.deepcopy(model)\n",
        "        \n",
        "        if (epoch > patienceCounter):\n",
        "          if (total_loss >  bestHistory):\n",
        "            patienceCounter += 1\n",
        "            print('BAD! Patience counter : ', patienceCounter)\n",
        "\n",
        "        \n",
        "        if (patienceCounter >= patience):\n",
        "          print('Early stopping saved')\n",
        "          break\n",
        "        \n",
        "        losses.append(total_loss)\n",
        "        train_losses.append(train_loss)\n",
        "        print('Train Loss:: \\t', train_loss)\n",
        "        print(\"Validation Loss ::\\t\", total_loss)\n",
        "        \n",
        "    model.to('cpu')\n",
        "\n",
        "    history.append(losses)\n",
        "    bestModels.append(bestModel)\n",
        "    bestScores.append(bestHistory)"
      ]
    },
    {
      "cell_type": "markdown",
      "source": [
        "## Model utils like graphs and saving"
      ],
      "metadata": {
        "id": "6MGLeF18CDE0"
      }
    },
    {
      "cell_type": "code",
      "source": [
        "from matplotlib.pyplot import figure\n",
        "import matplotlib.pyplot as plt\n",
        "\n",
        "figure(figsize=(6, 8), dpi=80)\n",
        "\n",
        "f, axes = plt.subplots(len(history), 1)\n",
        "f.set_size_inches(12, 20)\n",
        "for i in range(len(history)):\n",
        "  axes[i].plot(history[i])\n",
        "  #axes[i].plot(trainhistory[i])\n",
        "\n",
        "  axes[i].legend(['Validation Loss'])\n",
        "  axes[i].set_title(' Fold ' + str(i))"
      ],
      "metadata": {
        "id": "FxSv8jP5CH-C",
        "outputId": "f2d7f0f2-59e5-4069-baf4-bc2127c72241",
        "colab": {
          "base_uri": "https://localhost:8080/",
          "height": 1000
        }
      },
      "execution_count": 38,
      "outputs": [
        {
          "output_type": "display_data",
          "data": {
            "text/plain": [
              "<Figure size 480x640 with 0 Axes>"
            ]
          },
          "metadata": {}
        },
        {
          "output_type": "display_data",
          "data": {
            "image/png": "[encoded data removed]",
            "text/plain": [
              "<Figure size 864x1440 with 5 Axes>"
            ]
          },
          "metadata": {
            "needs_background": "light"
          }
        }
      ]
    },
    {
      "cell_type": "code",
      "source": [
        "# Get best val loss scores per fold\n",
        "for m in history:\n",
        "  print(min(m))"
      ],
      "metadata": {
        "id": "1NK6giFLCgd_",
        "outputId": "b5455488-4477-468e-d40c-a6cfb5deb80f",
        "colab": {
          "base_uri": "https://localhost:8080/"
        }
      },
      "execution_count": 39,
      "outputs": [
        {
          "output_type": "stream",
          "name": "stdout",
          "text": [
            "13.117815\n",
            "12.363038\n",
            "13.204095\n",
            "8.014068\n",
            "11.825298\n"
          ]
        }
      ]
    },
    {
      "cell_type": "code",
      "source": [
        "# Save best models\n",
        "c = 0\n",
        "for m in bestModels:\n",
        "    torch.save(m.state_dict(), OUTPUT_MODEL_PATH + f'/tab_best_fold_{c}.pth')\n",
        "    c += 1"
      ],
      "metadata": {
        "id": "fVQ3kzQVjHaR"
      },
      "execution_count": 40,
      "outputs": []
    },
    {
      "cell_type": "code",
      "source": [
        "for k, m in models.items():\n",
        "    torch.save(m.state_dict(), OUTPUT_MODEL_PATH + f'/fold_{k}.pth')"
      ],
      "metadata": {
        "id": "_csLQKqzCNdn"
      },
      "execution_count": 41,
      "outputs": []
    },
    {
      "cell_type": "markdown",
      "metadata": {
        "id": "OriidIi3coKP"
      },
      "source": [
        "# Testing Pipeline "
      ]
    },
    {
      "cell_type": "code",
      "execution_count": 42,
      "metadata": {
        "id": "lBtFOYqyDWsV"
      },
      "outputs": [],
      "source": [
        "fold_models_directory = Path(OUTPUT_MODEL_PATH)"
      ]
    },
    {
      "cell_type": "code",
      "source": [
        "fold_models_directory.ls()[6:11]"
      ],
      "metadata": {
        "id": "UtknJHZyTQ5E",
        "outputId": "4eacc479-0538-43f3-a407-9109567e6c95",
        "colab": {
          "base_uri": "https://localhost:8080/"
        }
      },
      "execution_count": 43,
      "outputs": [
        {
          "output_type": "execute_result",
          "data": {
            "text/plain": [
              "[PosixPath('/content/drive/MyDrive/Kaggle/ModelDump/tab_best_fold_0.pth'),\n",
              " PosixPath('/content/drive/MyDrive/Kaggle/ModelDump/tab_best_fold_1.pth'),\n",
              " PosixPath('/content/drive/MyDrive/Kaggle/ModelDump/tab_best_fold_2.pth'),\n",
              " PosixPath('/content/drive/MyDrive/Kaggle/ModelDump/tab_best_fold_3.pth'),\n",
              " PosixPath('/content/drive/MyDrive/Kaggle/ModelDump/tab_best_fold_4.pth')]"
            ]
          },
          "metadata": {},
          "execution_count": 43
        }
      ]
    },
    {
      "cell_type": "code",
      "execution_count": 44,
      "metadata": {
        "id": "FPiYeptIDTE3"
      },
      "outputs": [],
      "source": [
        "model_device = torch.device('cpu')\n",
        "for i , fold_model_path in enumerate(fold_models_directory.ls()[6:11]) :\n",
        "    models[i].load_state_dict(torch.load(str(fold_model_path) , map_location = model_device), strict=False)"
      ]
    },
    {
      "cell_type": "code",
      "execution_count": 45,
      "metadata": {
        "id": "ojBhpb88IpEQ"
      },
      "outputs": [],
      "source": [
        "test_df['OS'] = 0"
      ]
    },
    {
      "cell_type": "code",
      "execution_count": 46,
      "metadata": {
        "id": "7ny534iiFgn_"
      },
      "outputs": [],
      "source": [
        "test_pred_dict = {}\n",
        "submissionDF = pd.DataFrame()\n",
        "\n",
        "test_ds = Dataset(path, test_df,'Test' ,0)\n",
        "test_dl = torch.utils.data.DataLoader(dataset=test_ds,batch_size=1, shuffle=False,collate_fn=collate_fn)"
      ]
    },
    {
      "cell_type": "code",
      "source": [
        "encoding_dic = {k:v for k,v in dict(tuple(test_df[['id' ,'id_encoding']].groupby(['id','id_encoding']))).keys()}\n",
        "decoding_dic = {v:k for k,v in encoding_dic.items()} "
      ],
      "metadata": {
        "id": "_23R0wHvlrZN"
      },
      "execution_count": 47,
      "outputs": []
    },
    {
      "cell_type": "code",
      "source": [
        "fold_count_dict = dict(zip(test_df['id'].unique().flatten(), np.zeros(9).flatten())) # count number of occurence for a cetain patient id in the batch \n",
        "fold_mean_dict = dict(zip(test_df['id'].unique().flatten(), np.zeros(9,dtype=int).flatten())) # compute mean fold "
      ],
      "metadata": {
        "id": "6BWpmpTQWcKx"
      },
      "execution_count": 48,
      "outputs": []
    },
    {
      "cell_type": "code",
      "source": [
        "final_submit_df = pd.DataFrame(columns = fold_mean_dict.keys()) "
      ],
      "metadata": {
        "id": "qVUuYAg_ekqk"
      },
      "execution_count": 49,
      "outputs": []
    },
    {
      "cell_type": "code",
      "execution_count": 50,
      "metadata": {
        "id": "ydbgwziRtgcb",
        "outputId": "fb5eab6a-1aac-428f-f60e-b2d51cf984d2",
        "colab": {
          "base_uri": "https://localhost:8080/"
        }
      },
      "outputs": [
        {
          "output_type": "stream",
          "name": "stdout",
          "text": [
            "=================Predictions of fold Model 0================\n",
            "Fold count dict :  {'a7b285': 32.0, 'b631e6': 32.0, 'ac3e32': 32.0, 'ae0d22': 8.0, 'aabb0e': 32.0, 'ac8a8b': 32.0, 'b462ff': 32.0, 'b37b6e': 32.0, 'ad2573': 32.0}\n",
            "Fold mean dict after dividing :  {'a7b285': array([46.91483], dtype=float32), 'b631e6': array([58.804962], dtype=float32), 'ac3e32': array([72.530205], dtype=float32), 'ae0d22': array([48.881138], dtype=float32), 'aabb0e': array([21.35178], dtype=float32), 'ac8a8b': array([60.773884], dtype=float32), 'b462ff': array([30.52673], dtype=float32), 'b37b6e': array([33.797863], dtype=float32), 'ad2573': array([47.877186], dtype=float32)}\n",
            "=================Predictions of fold Model 1================\n",
            "Fold count dict :  {'a7b285': 32.0, 'b631e6': 32.0, 'ac3e32': 32.0, 'ae0d22': 8.0, 'aabb0e': 32.0, 'ac8a8b': 32.0, 'b462ff': 32.0, 'b37b6e': 32.0, 'ad2573': 32.0}\n",
            "Fold mean dict after dividing :  {'a7b285': array([38.808136], dtype=float32), 'b631e6': array([59.88478], dtype=float32), 'ac3e32': array([60.342625], dtype=float32), 'ae0d22': array([33.61421], dtype=float32), 'aabb0e': array([16.620426], dtype=float32), 'ac8a8b': array([58.217392], dtype=float32), 'b462ff': array([45.71125], dtype=float32), 'b37b6e': array([38.543476], dtype=float32), 'ad2573': array([46.759922], dtype=float32)}\n",
            "=================Predictions of fold Model 2================\n",
            "Fold count dict :  {'a7b285': 32.0, 'b631e6': 32.0, 'ac3e32': 32.0, 'ae0d22': 8.0, 'aabb0e': 32.0, 'ac8a8b': 32.0, 'b462ff': 32.0, 'b37b6e': 32.0, 'ad2573': 32.0}\n",
            "Fold mean dict after dividing :  {'a7b285': array([49.681877], dtype=float32), 'b631e6': array([59.595173], dtype=float32), 'ac3e32': array([63.55196], dtype=float32), 'ae0d22': array([58.893845], dtype=float32), 'aabb0e': array([42.34565], dtype=float32), 'ac8a8b': array([56.394493], dtype=float32), 'b462ff': array([44.32861], dtype=float32), 'b37b6e': array([47.27894], dtype=float32), 'ad2573': array([48.491646], dtype=float32)}\n",
            "=================Predictions of fold Model 3================\n",
            "Fold count dict :  {'a7b285': 32.0, 'b631e6': 32.0, 'ac3e32': 32.0, 'ae0d22': 8.0, 'aabb0e': 32.0, 'ac8a8b': 32.0, 'b462ff': 32.0, 'b37b6e': 32.0, 'ad2573': 32.0}\n",
            "Fold mean dict after dividing :  {'a7b285': array([38.922997], dtype=float32), 'b631e6': array([39.75139], dtype=float32), 'ac3e32': array([76.775055], dtype=float32), 'ae0d22': array([55.620106], dtype=float32), 'aabb0e': array([20.945906], dtype=float32), 'ac8a8b': array([62.64154], dtype=float32), 'b462ff': array([31.79073], dtype=float32), 'b37b6e': array([35.35929], dtype=float32), 'ad2573': array([50.469067], dtype=float32)}\n",
            "=================Predictions of fold Model 4================\n",
            "Fold count dict :  {'a7b285': 32.0, 'b631e6': 32.0, 'ac3e32': 32.0, 'ae0d22': 8.0, 'aabb0e': 32.0, 'ac8a8b': 32.0, 'b462ff': 32.0, 'b37b6e': 32.0, 'ad2573': 32.0}\n",
            "Fold mean dict after dividing :  {'a7b285': array([45.496555], dtype=float32), 'b631e6': array([49.80174], dtype=float32), 'ac3e32': array([68.78501], dtype=float32), 'ae0d22': array([37.554455], dtype=float32), 'aabb0e': array([25.33598], dtype=float32), 'ac8a8b': array([65.806145], dtype=float32), 'b462ff': array([30.262054], dtype=float32), 'b37b6e': array([26.757116], dtype=float32), 'ad2573': array([45.500923], dtype=float32)}\n"
          ]
        }
      ],
      "source": [
        "# Test Set \n",
        "for key , fold_model in models.items() : \n",
        "  print(f\"=================Predictions of fold Model {key}================\")\n",
        "  fold_model.to(config.DEVICE)\n",
        "  fold_model.eval()\n",
        "  with torch.no_grad():\n",
        "      for X,y,pid,_ in test_dl:\n",
        "          imgs = X[0].to(config.DEVICE)\n",
        "          tabs = X[1].to(config.DEVICE)\n",
        "          y=y.to(config.DEVICE)\n",
        "          patient_id = pid.detach().cpu().numpy()[0]\n",
        "          outputs = fold_model(imgs, tabs).detach().cpu().numpy()[0]\n",
        "\n",
        "          fold_count_dict[decoding_dic[patient_id]]+=1\n",
        "          fold_mean_dict[decoding_dic[patient_id]] += outputs\n",
        "           \n",
        "      fold_mean_dict = {k : v / fold_count_dict[k]  for k,v in fold_mean_dict.items()}\n",
        "      print (\"Fold count dict : \" , fold_count_dict)\n",
        "      print (\"Fold mean dict after dividing : \" , fold_mean_dict)\n",
        "    \n",
        "      final_submit_df.loc[len(final_submit_df)] = [v[0] for v in fold_mean_dict.values()]\n",
        "      fold_mean_dict = dict(zip(test_df['id'].unique().flatten(), np.zeros(9,dtype=int).flatten())) # reset for next fold \n",
        "      fold_count_dict = dict(zip(test_df['id'].unique().flatten(), np.zeros(9).flatten()))\n"
      ]
    },
    {
      "cell_type": "code",
      "source": [
        "final_submit_df"
      ],
      "metadata": {
        "id": "Qgt0aSPdg539",
        "outputId": "fe85b658-b334-4212-fc30-16e507a8dc83",
        "colab": {
          "base_uri": "https://localhost:8080/",
          "height": 250
        }
      },
      "execution_count": 51,
      "outputs": [
        {
          "output_type": "execute_result",
          "data": {
            "text/html": [
              "\n",
              "  <div id=\"df-b228f5a0-7eb9-409e-8aeb-51b239b6df43\">\n",
              "    <div class=\"colab-df-container\">\n",
              "      <div>\n",
              "<style scoped>\n",
              "    .dataframe tbody tr th:only-of-type {\n",
              "        vertical-align: middle;\n",
              "    }\n",
              "\n",
              "    .dataframe tbody tr th {\n",
              "        vertical-align: top;\n",
              "    }\n",
              "\n",
              "    .dataframe thead th {\n",
              "        text-align: right;\n",
              "    }\n",
              "</style>\n",
              "<table border=\"1\" class=\"dataframe\">\n",
              "  <thead>\n",
              "    <tr style=\"text-align: right;\">\n",
              "      <th></th>\n",
              "      <th>a7b285</th>\n",
              "      <th>b631e6</th>\n",
              "      <th>ac3e32</th>\n",
              "      <th>ae0d22</th>\n",
              "      <th>aabb0e</th>\n",
              "      <th>ac8a8b</th>\n",
              "      <th>b462ff</th>\n",
              "      <th>b37b6e</th>\n",
              "      <th>ad2573</th>\n",
              "    </tr>\n",
              "  </thead>\n",
              "  <tbody>\n",
              "    <tr>\n",
              "      <th>0</th>\n",
              "      <td>46.914829</td>\n",
              "      <td>58.804962</td>\n",
              "      <td>72.530205</td>\n",
              "      <td>48.881138</td>\n",
              "      <td>21.351780</td>\n",
              "      <td>60.773884</td>\n",
              "      <td>30.526730</td>\n",
              "      <td>33.797863</td>\n",
              "      <td>47.877186</td>\n",
              "    </tr>\n",
              "    <tr>\n",
              "      <th>1</th>\n",
              "      <td>38.808136</td>\n",
              "      <td>59.884781</td>\n",
              "      <td>60.342625</td>\n",
              "      <td>33.614208</td>\n",
              "      <td>16.620426</td>\n",
              "      <td>58.217392</td>\n",
              "      <td>45.711250</td>\n",
              "      <td>38.543476</td>\n",
              "      <td>46.759922</td>\n",
              "    </tr>\n",
              "    <tr>\n",
              "      <th>2</th>\n",
              "      <td>49.681877</td>\n",
              "      <td>59.595173</td>\n",
              "      <td>63.551960</td>\n",
              "      <td>58.893845</td>\n",
              "      <td>42.345650</td>\n",
              "      <td>56.394493</td>\n",
              "      <td>44.328609</td>\n",
              "      <td>47.278938</td>\n",
              "      <td>48.491646</td>\n",
              "    </tr>\n",
              "    <tr>\n",
              "      <th>3</th>\n",
              "      <td>38.922997</td>\n",
              "      <td>39.751389</td>\n",
              "      <td>76.775055</td>\n",
              "      <td>55.620106</td>\n",
              "      <td>20.945906</td>\n",
              "      <td>62.641541</td>\n",
              "      <td>31.790730</td>\n",
              "      <td>35.359291</td>\n",
              "      <td>50.469067</td>\n",
              "    </tr>\n",
              "    <tr>\n",
              "      <th>4</th>\n",
              "      <td>45.496555</td>\n",
              "      <td>49.801739</td>\n",
              "      <td>68.785011</td>\n",
              "      <td>37.554455</td>\n",
              "      <td>25.335979</td>\n",
              "      <td>65.806145</td>\n",
              "      <td>30.262054</td>\n",
              "      <td>26.757116</td>\n",
              "      <td>45.500923</td>\n",
              "    </tr>\n",
              "  </tbody>\n",
              "</table>\n",
              "</div>\n",
              "      <button class=\"colab-df-convert\" onclick=\"convertToInteractive('df-b228f5a0-7eb9-409e-8aeb-51b239b6df43')\"\n",
              "              title=\"Convert this dataframe to an interactive table.\"\n",
              "              style=\"display:none;\">\n",
              "        \n",
              "  <svg xmlns=\"http://www.w3.org/2000/svg\" height=\"24px\"viewBox=\"0 0 24 24\"\n",
              "       width=\"24px\">\n",
              "    <path d=\"M0 0h24v24H0V0z\" fill=\"none\"/>\n",
              "    <path d=\"M18.56 5.44l.94 2.06.94-2.06 2.06-.94-2.06-.94-.94-2.06-.94 2.06-2.06.94zm-11 1L8.5 8.5l.94-2.06 2.06-.94-2.06-.94L8.5 2.5l-.94 2.06-2.06.94zm10 10l.94 2.06.94-2.06 2.06-.94-2.06-.94-.94-2.06-.94 2.06-2.06.94z\"/><path d=\"M17.41 7.96l-1.37-1.37c-.4-.4-.92-.59-1.43-.59-.52 0-1.04.2-1.43.59L10.3 9.45l-7.72 7.72c-.78.78-.78 2.05 0 2.83L4 21.41c.39.39.9.59 1.41.59.51 0 1.02-.2 1.41-.59l7.78-7.78 2.81-2.81c.8-.78.8-2.07 0-2.86zM5.41 20L4 18.59l7.72-7.72 1.47 1.35L5.41 20z\"/>\n",
              "  </svg>\n",
              "      </button>\n",
              "      \n",
              "  <style>\n",
              "    .colab-df-container {\n",
              "      display:flex;\n",
              "      flex-wrap:wrap;\n",
              "      gap: 12px;\n",
              "    }\n",
              "\n",
              "    .colab-df-convert {\n",
              "      background-color: #E8F0FE;\n",
              "      border: none;\n",
              "      border-radius: 50%;\n",
              "      cursor: pointer;\n",
              "      display: none;\n",
              "      fill: #1967D2;\n",
              "      height: 32px;\n",
              "      padding: 0 0 0 0;\n",
              "      width: 32px;\n",
              "    }\n",
              "\n",
              "    .colab-df-convert:hover {\n",
              "      background-color: #E2EBFA;\n",
              "      box-shadow: 0px 1px 2px rgba(60, 64, 67, 0.3), 0px 1px 3px 1px rgba(60, 64, 67, 0.15);\n",
              "      fill: #174EA6;\n",
              "    }\n",
              "\n",
              "    [theme=dark] .colab-df-convert {\n",
              "      background-color: #3B4455;\n",
              "      fill: #D2E3FC;\n",
              "    }\n",
              "\n",
              "    [theme=dark] .colab-df-convert:hover {\n",
              "      background-color: #434B5C;\n",
              "      box-shadow: 0px 1px 3px 1px rgba(0, 0, 0, 0.15);\n",
              "      filter: drop-shadow(0px 1px 2px rgba(0, 0, 0, 0.3));\n",
              "      fill: #FFFFFF;\n",
              "    }\n",
              "  </style>\n",
              "\n",
              "      <script>\n",
              "        const buttonEl =\n",
              "          document.querySelector('#df-b228f5a0-7eb9-409e-8aeb-51b239b6df43 button.colab-df-convert');\n",
              "        buttonEl.style.display =\n",
              "          google.colab.kernel.accessAllowed ? 'block' : 'none';\n",
              "\n",
              "        async function convertToInteractive(key) {\n",
              "          const element = document.querySelector('#df-b228f5a0-7eb9-409e-8aeb-51b239b6df43');\n",
              "          const dataTable =\n",
              "            await google.colab.kernel.invokeFunction('convertToInteractive',\n",
              "                                                     [key], {});\n",
              "          if (!dataTable) return;\n",
              "\n",
              "          const docLinkHtml = 'Like what you see? Visit the ' +\n",
              "            '<a target=\"_blank\" href=https://colab.research.google.com/notebooks/data_table.ipynb>data table notebook</a>'\n",
              "            + ' to learn more about interactive tables.';\n",
              "          element.innerHTML = '';\n",
              "          dataTable['output_type'] = 'display_data';\n",
              "          await google.colab.output.renderOutput(dataTable, element);\n",
              "          const docLink = document.createElement('div');\n",
              "          docLink.innerHTML = docLinkHtml;\n",
              "          element.appendChild(docLink);\n",
              "        }\n",
              "      </script>\n",
              "    </div>\n",
              "  </div>\n",
              "  "
            ],
            "text/plain": [
              "      a7b285     b631e6     ac3e32  ...     b462ff     b37b6e     ad2573\n",
              "0  46.914829  58.804962  72.530205  ...  30.526730  33.797863  47.877186\n",
              "1  38.808136  59.884781  60.342625  ...  45.711250  38.543476  46.759922\n",
              "2  49.681877  59.595173  63.551960  ...  44.328609  47.278938  48.491646\n",
              "3  38.922997  39.751389  76.775055  ...  31.790730  35.359291  50.469067\n",
              "4  45.496555  49.801739  68.785011  ...  30.262054  26.757116  45.500923\n",
              "\n",
              "[5 rows x 9 columns]"
            ]
          },
          "metadata": {},
          "execution_count": 51
        }
      ]
    },
    {
      "cell_type": "code",
      "source": [
        "final_submit_df.mean(axis=0)"
      ],
      "metadata": {
        "id": "AdB_4gMyiMfP",
        "outputId": "846be3ab-ea43-4b7c-e6ce-4907f7a7711d",
        "colab": {
          "base_uri": "https://localhost:8080/"
        }
      },
      "execution_count": 52,
      "outputs": [
        {
          "output_type": "execute_result",
          "data": {
            "text/plain": [
              "a7b285    43.964879\n",
              "b631e6    53.567609\n",
              "ac3e32    68.396971\n",
              "ae0d22    46.912750\n",
              "aabb0e    25.319948\n",
              "ac8a8b    60.766691\n",
              "b462ff    36.523875\n",
              "b37b6e    36.347337\n",
              "ad2573    47.819749\n",
              "dtype: float64"
            ]
          },
          "metadata": {},
          "execution_count": 52
        }
      ]
    },
    {
      "cell_type": "code",
      "source": [
        "final_submit_df.std(axis=0)"
      ],
      "metadata": {
        "id": "7mC5Ka4xiPUN",
        "outputId": "b9c60cb6-92f7-4ed6-9cde-33d4bcfc01f9",
        "colab": {
          "base_uri": "https://localhost:8080/"
        }
      },
      "execution_count": 53,
      "outputs": [
        {
          "output_type": "execute_result",
          "data": {
            "text/plain": [
              "a7b285     4.892466\n",
              "b631e6     8.785468\n",
              "ac3e32     6.628973\n",
              "ae0d22    11.041605\n",
              "aabb0e    10.005437\n",
              "ac8a8b     3.692094\n",
              "b462ff     7.792634\n",
              "b37b6e     7.479494\n",
              "ad2573     1.869078\n",
              "dtype: float64"
            ]
          },
          "metadata": {},
          "execution_count": 53
        }
      ]
    },
    {
      "cell_type": "code",
      "source": [
        "submissionDF = pd.DataFrame(final_submit_df.mean(axis=0)).reset_index().rename({'index' : 'id' , 0 : 'prediction' } , axis=1 )"
      ],
      "metadata": {
        "id": "DjDshyx6ieVv"
      },
      "execution_count": 54,
      "outputs": []
    },
    {
      "cell_type": "code",
      "source": [
        "submissionDF"
      ],
      "metadata": {
        "id": "LcLGHgsEjSVc",
        "outputId": "b2745217-713d-4113-e3e9-8e7670fa0ded",
        "colab": {
          "base_uri": "https://localhost:8080/",
          "height": 332
        }
      },
      "execution_count": 55,
      "outputs": [
        {
          "output_type": "execute_result",
          "data": {
            "text/html": [
              "\n",
              "  <div id=\"df-df174f51-d2a4-4998-a8a5-d6ce0211f123\">\n",
              "    <div class=\"colab-df-container\">\n",
              "      <div>\n",
              "<style scoped>\n",
              "    .dataframe tbody tr th:only-of-type {\n",
              "        vertical-align: middle;\n",
              "    }\n",
              "\n",
              "    .dataframe tbody tr th {\n",
              "        vertical-align: top;\n",
              "    }\n",
              "\n",
              "    .dataframe thead th {\n",
              "        text-align: right;\n",
              "    }\n",
              "</style>\n",
              "<table border=\"1\" class=\"dataframe\">\n",
              "  <thead>\n",
              "    <tr style=\"text-align: right;\">\n",
              "      <th></th>\n",
              "      <th>id</th>\n",
              "      <th>prediction</th>\n",
              "    </tr>\n",
              "  </thead>\n",
              "  <tbody>\n",
              "    <tr>\n",
              "      <th>0</th>\n",
              "      <td>a7b285</td>\n",
              "      <td>43.964879</td>\n",
              "    </tr>\n",
              "    <tr>\n",
              "      <th>1</th>\n",
              "      <td>b631e6</td>\n",
              "      <td>53.567609</td>\n",
              "    </tr>\n",
              "    <tr>\n",
              "      <th>2</th>\n",
              "      <td>ac3e32</td>\n",
              "      <td>68.396971</td>\n",
              "    </tr>\n",
              "    <tr>\n",
              "      <th>3</th>\n",
              "      <td>ae0d22</td>\n",
              "      <td>46.912750</td>\n",
              "    </tr>\n",
              "    <tr>\n",
              "      <th>4</th>\n",
              "      <td>aabb0e</td>\n",
              "      <td>25.319948</td>\n",
              "    </tr>\n",
              "    <tr>\n",
              "      <th>5</th>\n",
              "      <td>ac8a8b</td>\n",
              "      <td>60.766691</td>\n",
              "    </tr>\n",
              "    <tr>\n",
              "      <th>6</th>\n",
              "      <td>b462ff</td>\n",
              "      <td>36.523875</td>\n",
              "    </tr>\n",
              "    <tr>\n",
              "      <th>7</th>\n",
              "      <td>b37b6e</td>\n",
              "      <td>36.347337</td>\n",
              "    </tr>\n",
              "    <tr>\n",
              "      <th>8</th>\n",
              "      <td>ad2573</td>\n",
              "      <td>47.819749</td>\n",
              "    </tr>\n",
              "  </tbody>\n",
              "</table>\n",
              "</div>\n",
              "      <button class=\"colab-df-convert\" onclick=\"convertToInteractive('df-df174f51-d2a4-4998-a8a5-d6ce0211f123')\"\n",
              "              title=\"Convert this dataframe to an interactive table.\"\n",
              "              style=\"display:none;\">\n",
              "        \n",
              "  <svg xmlns=\"http://www.w3.org/2000/svg\" height=\"24px\"viewBox=\"0 0 24 24\"\n",
              "       width=\"24px\">\n",
              "    <path d=\"M0 0h24v24H0V0z\" fill=\"none\"/>\n",
              "    <path d=\"M18.56 5.44l.94 2.06.94-2.06 2.06-.94-2.06-.94-.94-2.06-.94 2.06-2.06.94zm-11 1L8.5 8.5l.94-2.06 2.06-.94-2.06-.94L8.5 2.5l-.94 2.06-2.06.94zm10 10l.94 2.06.94-2.06 2.06-.94-2.06-.94-.94-2.06-.94 2.06-2.06.94z\"/><path d=\"M17.41 7.96l-1.37-1.37c-.4-.4-.92-.59-1.43-.59-.52 0-1.04.2-1.43.59L10.3 9.45l-7.72 7.72c-.78.78-.78 2.05 0 2.83L4 21.41c.39.39.9.59 1.41.59.51 0 1.02-.2 1.41-.59l7.78-7.78 2.81-2.81c.8-.78.8-2.07 0-2.86zM5.41 20L4 18.59l7.72-7.72 1.47 1.35L5.41 20z\"/>\n",
              "  </svg>\n",
              "      </button>\n",
              "      \n",
              "  <style>\n",
              "    .colab-df-container {\n",
              "      display:flex;\n",
              "      flex-wrap:wrap;\n",
              "      gap: 12px;\n",
              "    }\n",
              "\n",
              "    .colab-df-convert {\n",
              "      background-color: #E8F0FE;\n",
              "      border: none;\n",
              "      border-radius: 50%;\n",
              "      cursor: pointer;\n",
              "      display: none;\n",
              "      fill: #1967D2;\n",
              "      height: 32px;\n",
              "      padding: 0 0 0 0;\n",
              "      width: 32px;\n",
              "    }\n",
              "\n",
              "    .colab-df-convert:hover {\n",
              "      background-color: #E2EBFA;\n",
              "      box-shadow: 0px 1px 2px rgba(60, 64, 67, 0.3), 0px 1px 3px 1px rgba(60, 64, 67, 0.15);\n",
              "      fill: #174EA6;\n",
              "    }\n",
              "\n",
              "    [theme=dark] .colab-df-convert {\n",
              "      background-color: #3B4455;\n",
              "      fill: #D2E3FC;\n",
              "    }\n",
              "\n",
              "    [theme=dark] .colab-df-convert:hover {\n",
              "      background-color: #434B5C;\n",
              "      box-shadow: 0px 1px 3px 1px rgba(0, 0, 0, 0.15);\n",
              "      filter: drop-shadow(0px 1px 2px rgba(0, 0, 0, 0.3));\n",
              "      fill: #FFFFFF;\n",
              "    }\n",
              "  </style>\n",
              "\n",
              "      <script>\n",
              "        const buttonEl =\n",
              "          document.querySelector('#df-df174f51-d2a4-4998-a8a5-d6ce0211f123 button.colab-df-convert');\n",
              "        buttonEl.style.display =\n",
              "          google.colab.kernel.accessAllowed ? 'block' : 'none';\n",
              "\n",
              "        async function convertToInteractive(key) {\n",
              "          const element = document.querySelector('#df-df174f51-d2a4-4998-a8a5-d6ce0211f123');\n",
              "          const dataTable =\n",
              "            await google.colab.kernel.invokeFunction('convertToInteractive',\n",
              "                                                     [key], {});\n",
              "          if (!dataTable) return;\n",
              "\n",
              "          const docLinkHtml = 'Like what you see? Visit the ' +\n",
              "            '<a target=\"_blank\" href=https://colab.research.google.com/notebooks/data_table.ipynb>data table notebook</a>'\n",
              "            + ' to learn more about interactive tables.';\n",
              "          element.innerHTML = '';\n",
              "          dataTable['output_type'] = 'display_data';\n",
              "          await google.colab.output.renderOutput(dataTable, element);\n",
              "          const docLink = document.createElement('div');\n",
              "          docLink.innerHTML = docLinkHtml;\n",
              "          element.appendChild(docLink);\n",
              "        }\n",
              "      </script>\n",
              "    </div>\n",
              "  </div>\n",
              "  "
            ],
            "text/plain": [
              "       id  prediction\n",
              "0  a7b285   43.964879\n",
              "1  b631e6   53.567609\n",
              "2  ac3e32   68.396971\n",
              "3  ae0d22   46.912750\n",
              "4  aabb0e   25.319948\n",
              "5  ac8a8b   60.766691\n",
              "6  b462ff   36.523875\n",
              "7  b37b6e   36.347337\n",
              "8  ad2573   47.819749"
            ]
          },
          "metadata": {},
          "execution_count": 55
        }
      ]
    },
    {
      "cell_type": "code",
      "execution_count": 56,
      "metadata": {
        "id": "pabXigZzHkw3"
      },
      "outputs": [],
      "source": [
        "submissionDF.to_csv(\"submission_V1.csv\" , index = False)"
      ]
    }
  ],
  "metadata": {
    "accelerator": "GPU",
    "colab": {
      "collapsed_sections": [],
      "name": "Run_Model-ipynb",
      "provenance": [],
      "include_colab_link": true
    },
    "kernelspec": {
      "display_name": "Python 3",
      "name": "python3"
    },
    "language_info": {
      "name": "python"
    }
  },
  "nbformat": 4,
  "nbformat_minor": 0
}